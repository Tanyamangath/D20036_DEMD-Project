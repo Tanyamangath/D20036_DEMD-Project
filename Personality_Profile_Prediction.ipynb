{
  "nbformat": 4,
  "nbformat_minor": 0,
  "metadata": {
    "colab": {
      "name": "Personality Profile Prediction",
      "provenance": []
    },
    "kernelspec": {
      "name": "python3",
      "display_name": "Python 3"
    },
    "language_info": {
      "name": "python"
    }
  },
  "cells": [
    {
      "cell_type": "markdown",
      "metadata": {
        "id": "Wp6_W3rV0_vW"
      },
      "source": [
        "# Tanya Mangath"
      ]
    },
    {
      "cell_type": "code",
      "metadata": {
        "id": "-acpt-nc027k"
      },
      "source": [
        "import pandas as pd\n",
        "from numpy import *\n",
        "import numpy as np\n",
        "from sklearn import preprocessing\n",
        "from sklearn import datasets, linear_model\n",
        "from sklearn.metrics import mean_squared_error, r2_score\n",
        "from sklearn import metrics\n",
        "from sklearn.model_selection import train_test_split\n",
        "from sklearn.model_selection import train_test_split\n",
        "from sklearn import neighbors"
      ],
      "execution_count": 1,
      "outputs": []
    },
    {
      "cell_type": "code",
      "metadata": {
        "colab": {
          "base_uri": "https://localhost:8080/"
        },
        "id": "h45oQnvT1K5d",
        "outputId": "884967dc-3bde-48d9-8cc5-70619732f6d5"
      },
      "source": [
        "from google.colab import drive\n",
        "drive.mount('/content/drive')"
      ],
      "execution_count": 3,
      "outputs": [
        {
          "output_type": "stream",
          "text": [
            "Mounted at /content/drive\n"
          ],
          "name": "stdout"
        }
      ]
    },
    {
      "cell_type": "code",
      "metadata": {
        "colab": {
          "base_uri": "https://localhost:8080/"
        },
        "id": "7nK42QpY1K8P",
        "outputId": "e8e3bc7c-d677-4818-8381-02d8bc20680a"
      },
      "source": [
        "%cd /content/drive/My\\ Drive/\n"
      ],
      "execution_count": 4,
      "outputs": [
        {
          "output_type": "stream",
          "text": [
            "/content/drive/My Drive\n"
          ],
          "name": "stdout"
        }
      ]
    },
    {
      "cell_type": "code",
      "metadata": {
        "colab": {
          "base_uri": "https://localhost:8080/"
        },
        "id": "cgLrYXKv1K-s",
        "outputId": "f7e7ec79-ab6e-4d4f-dcb8-7ddb83756e1b"
      },
      "source": [
        "!pwd"
      ],
      "execution_count": 5,
      "outputs": [
        {
          "output_type": "stream",
          "text": [
            "/content/drive/My Drive\n"
          ],
          "name": "stdout"
        }
      ]
    },
    {
      "cell_type": "code",
      "metadata": {
        "id": "a-ot1U2W1LBA"
      },
      "source": [
        "train_df = pd.read_csv('/content/drive/MyDrive/train.csv')\n",
        "test_df = pd.read_csv('/content/drive/MyDrive/test.csv')"
      ],
      "execution_count": 6,
      "outputs": []
    },
    {
      "cell_type": "code",
      "metadata": {
        "colab": {
          "base_uri": "https://localhost:8080/"
        },
        "id": "ZwVa4QIL1LFd",
        "outputId": "fbec32d0-2177-4c39-e18d-b464a52be778"
      },
      "source": [
        "data =pd.read_csv('/content/drive/MyDrive/train.csv')\n",
        "array = data.values\n",
        "\n",
        "for i in range(len(array)):\n",
        "\tif array[i][0]==\"Male\":\n",
        "\t\tarray[i][0]=1\n",
        "\telse:\n",
        "\t\tarray[i][0]=0\n",
        "\n",
        "\n",
        "df=pd.DataFrame(array)\n",
        "\n",
        "maindf =df[[0,1,2,3,4,5,6]]\n",
        "mainarray=maindf.values\n",
        "print (mainarray)"
      ],
      "execution_count": 7,
      "outputs": [
        {
          "output_type": "stream",
          "text": [
            "[[1 17 7 ... 7 3 2]\n",
            " [1 19 4 ... 4 6 6]\n",
            " [0 18 7 ... 4 5 5]\n",
            " ...\n",
            " [1 22 5 ... 3 6 1]\n",
            " [1 19 5 ... 5 7 5]\n",
            " [0 18 5 ... 7 6 5]]\n"
          ],
          "name": "stdout"
        }
      ]
    },
    {
      "cell_type": "code",
      "metadata": {
        "id": "295mhgwz1LJ-"
      },
      "source": [
        "temp=df[7]\n",
        "train_y =temp.values\n",
        "# print(train_y)\n",
        "# print(mainarray)\n",
        "train_y=temp.values\n",
        "\n",
        "for i in range(len(train_y)):\n",
        "\ttrain_y[i] =str(train_y[i])"
      ],
      "execution_count": 8,
      "outputs": []
    },
    {
      "cell_type": "code",
      "metadata": {
        "id": "lfBErLEN1LNQ"
      },
      "source": [
        "mul_lr = linear_model.LogisticRegression(multi_class='multinomial', solver='newton-cg',max_iter =1000)\n",
        "mul_lr.fit(mainarray, train_y)\n",
        "\n",
        "testdata =pd.read_csv('/content/drive/MyDrive/test.csv')\n",
        "test = testdata.values\n",
        "\n",
        "for i in range(len(test)):\n",
        "\tif test[i][0]==\"Male\":\n",
        "\t\ttest[i][0]=1\n",
        "\telse:\n",
        "\t\ttest[i][0]=0"
      ],
      "execution_count": 9,
      "outputs": []
    },
    {
      "cell_type": "code",
      "metadata": {
        "id": "-9lwEmIt3V92",
        "colab": {
          "base_uri": "https://localhost:8080/"
        },
        "outputId": "e01ccdbc-3a7c-4136-bed6-7702b153f7d3"
      },
      "source": [
        "df1=pd.DataFrame(test)\n",
        "\n",
        "testdf =df1[[0,1,2,3,4,5,6]]\n",
        "maintestarray=testdf.values\n",
        "print(maintestarray)\n",
        "\n",
        "y_pred = mul_lr.predict(maintestarray)\n",
        "for i in range(len(y_pred)) :\n",
        "\ty_pred[i]=str((y_pred[i]))\n",
        "DF = pd.DataFrame(y_pred,columns=['Predicted Personality'])\n",
        "DF.index=DF.index+1\n",
        "DF.index.names = ['Person No']\n",
        "DF.to_csv(\"output2.csv\")"
      ],
      "execution_count": 10,
      "outputs": [
        {
          "output_type": "stream",
          "text": [
            "[[0 20 7 ... 9 5 5]\n",
            " [1 17 5 ... 5 2 4]\n",
            " [0 25 5 ... 7 2 4]\n",
            " ...\n",
            " [1 18 7 ... 6 2 7]\n",
            " [1 23 6 ... 5 4 3]\n",
            " [0 18 5 ... 3 5 6]]\n"
          ],
          "name": "stdout"
        }
      ]
    },
    {
      "cell_type": "code",
      "metadata": {
        "id": "72Xr99Uq3WA5"
      },
      "source": [
        "import pickle\n",
        "pickle_out = open(\"mul_lr.pkl\",\"wb\")\n",
        "pickle.dump(mul_lr, pickle_out)\n",
        "pickle_out.close()"
      ],
      "execution_count": 11,
      "outputs": []
    },
    {
      "cell_type": "code",
      "metadata": {
        "id": "m_DUjoMY3WD0"
      },
      "source": [
        ""
      ],
      "execution_count": null,
      "outputs": []
    },
    {
      "cell_type": "code",
      "metadata": {
        "id": "A3AIAliq3WHJ"
      },
      "source": [
        ""
      ],
      "execution_count": null,
      "outputs": []
    }
  ]
}